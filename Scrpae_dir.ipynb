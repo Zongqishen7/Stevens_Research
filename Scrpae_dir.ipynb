{
 "cells": [
  {
   "cell_type": "code",
   "execution_count": 1,
   "id": "9e710e0f",
   "metadata": {},
   "outputs": [],
   "source": [
    "from IPython.core.interactiveshell import InteractiveShell\n",
    "InteractiveShell.ast_node_interactivity = \"all\"\n",
    "# import requests package\n",
    "import requests\n",
    "import os\n",
    "import codecs\n",
    "# import BeautifulSoup from package bs4 (i.e. beautifulsoup4)\n",
    "from bs4 import BeautifulSoup\n",
    "import requests\n",
    "from bs4 import BeautifulSoup\n",
    "import pandas as pd\n",
    "import requests\n",
    "from urllib.request import Request, urlopen\n",
    "import pandas as pd\n",
    "import nltk\n",
    "\n",
    "# Scrpae word dir on web\n",
    "def download_evinwords (url):\n",
    "    response = requests.get(url)\n",
    "    soup = BeautifulSoup(response.text, 'html.parser')\n",
    "    divs = soup.find_all(\"ol\", {\"class\": \"section-col list-unstyled\"})\n",
    "    words = []\n",
    "\n",
    "    for div in divs:\n",
    "        for i in div.find_all(\"li\"):\n",
    "            words.append(i.get_text())\n",
    "\n",
    "    f = open('name.txt', mode='w')  # 打开文件，若文件不存在系统自动创建。\n",
    "    for i in words:\n",
    "        f.write(i + \"\\n\")\n",
    "    f.close()\n",
    "\n",
    "url = 'https://www.words-to-use.com/words/going-green/'\n",
    "download_evinwords(url)\n",
    "\n",
    "\n"
   ]
  },
  {
   "cell_type": "code",
   "execution_count": null,
   "id": "26d3167a",
   "metadata": {},
   "outputs": [],
   "source": [
    "\n",
    "# open fle as list\n",
    "def open_file(path):\n",
    "    pattern=r'\\w[\\w\\',-]*\\w'\n",
    "    with open(path,'r') as f:\n",
    "        envir = [line.strip() for line in f]\n",
    "    envir = \" \".join(envir)\n",
    "    envir=nltk.regexp_tokenize(envir.lower(), pattern)\n",
    "    return envir\n",
    "\n",
    "path = \"/Users/shenzongqi/Desktop/PythonProject/Stevens/2022_Research/envir_words.txt\"\n",
    "open_file(path)"
   ]
  }
 ],
 "metadata": {
  "kernelspec": {
   "display_name": "Python 3 (ipykernel)",
   "language": "python",
   "name": "python3"
  },
  "language_info": {
   "codemirror_mode": {
    "name": "ipython",
    "version": 3
   },
   "file_extension": ".py",
   "mimetype": "text/x-python",
   "name": "python",
   "nbconvert_exporter": "python",
   "pygments_lexer": "ipython3",
   "version": "3.9.7"
  }
 },
 "nbformat": 4,
 "nbformat_minor": 5
}
